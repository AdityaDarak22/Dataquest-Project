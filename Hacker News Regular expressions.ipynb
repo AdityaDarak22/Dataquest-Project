{
 "cells": [
  {
   "cell_type": "code",
   "execution_count": 1,
   "metadata": {},
   "outputs": [],
   "source": [
    "import pandas as pd\n",
    "import re"
   ]
  },
  {
   "cell_type": "code",
   "execution_count": 2,
   "metadata": {},
   "outputs": [],
   "source": [
    "hn = pd.read_excel('hacker_news.xlsx')"
   ]
  },
  {
   "cell_type": "code",
   "execution_count": 3,
   "metadata": {},
   "outputs": [
    {
     "name": "stdout",
     "output_type": "stream",
     "text": [
      "<class 'pandas.core.frame.DataFrame'>\n",
      "RangeIndex: 80401 entries, 0 to 80400\n",
      "Data columns (total 7 columns):\n",
      " #   Column        Non-Null Count  Dtype \n",
      "---  ------        --------------  ----- \n",
      " 0   id            80401 non-null  int64 \n",
      " 1   title         80401 non-null  object\n",
      " 2   url           70664 non-null  object\n",
      " 3   num_points    80401 non-null  int64 \n",
      " 4   num_comments  80401 non-null  int64 \n",
      " 5   author        80401 non-null  object\n",
      " 6   created_at    80401 non-null  object\n",
      "dtypes: int64(3), object(4)\n",
      "memory usage: 4.3+ MB\n"
     ]
    }
   ],
   "source": [
    "hn.info()"
   ]
  },
  {
   "cell_type": "code",
   "execution_count": 4,
   "metadata": {},
   "outputs": [
    {
     "name": "stdout",
     "output_type": "stream",
     "text": [
      "Match\n",
      "No Match\n",
      "Match\n"
     ]
    }
   ],
   "source": [
    "# example of regular expression\n",
    "string_list = [\"Julie's favorite color is Blue.\",\n",
    "               \"Keli's favorite color is Green.\",\n",
    "               \"Craig's favorite colors are blue and red.\"]\n",
    "\n",
    "pattern = \"[Bb]lue\"\n",
    "\n",
    "for s in string_list:\n",
    "    if re.search(pattern, s):\n",
    "        print(\"Match\")\n",
    "    else:\n",
    "        print(\"No Match\")"
   ]
  },
  {
   "cell_type": "code",
   "execution_count": 5,
   "metadata": {},
   "outputs": [
    {
     "name": "stdout",
     "output_type": "stream",
     "text": [
      "0              Julie's favorite color is Blue.\n",
      "1              Keli's favorite color is Green.\n",
      "2    Craig's favorite colors are blue and red.\n",
      "dtype: object\n",
      "0     True\n",
      "1    False\n",
      "2     True\n",
      "dtype: bool\n"
     ]
    }
   ],
   "source": [
    "#converting the above list in pandas series\n",
    "\n",
    "series = pd.Series(string_list)\n",
    "print(series)\n",
    "pattern = \"[Bb]lue\"\n",
    "pattern_combined = series.str.contains(pattern)\n",
    "print(pattern_combined)"
   ]
  },
  {
   "cell_type": "code",
   "execution_count": 6,
   "metadata": {},
   "outputs": [],
   "source": [
    "# checking for python in the hackernews dataset\n",
    "\n",
    "titles = hn[\"title\"]"
   ]
  },
  {
   "cell_type": "code",
   "execution_count": 7,
   "metadata": {},
   "outputs": [],
   "source": [
    "python_mentions = 0\n",
    "pattern = '[Pp]ython'\n",
    "\n",
    "for title in titles:\n",
    "    if re.search(pattern, str(title)):\n",
    "        python_mentions +=1"
   ]
  },
  {
   "cell_type": "code",
   "execution_count": 8,
   "metadata": {},
   "outputs": [
    {
     "data": {
      "text/plain": [
       "726"
      ]
     },
     "execution_count": 8,
     "metadata": {},
     "output_type": "execute_result"
    }
   ],
   "source": [
    "python_mentions"
   ]
  },
  {
   "cell_type": "code",
   "execution_count": 9,
   "metadata": {},
   "outputs": [
    {
     "data": {
      "text/plain": [
       "726"
      ]
     },
     "execution_count": 9,
     "metadata": {},
     "output_type": "execute_result"
    }
   ],
   "source": [
    "# using series to get number of python mentions in the title column\n",
    "pattern = '[Pp]ython'\n",
    "python_series = titles.str.contains(pattern).sum()\n",
    "python_series"
   ]
  },
  {
   "cell_type": "code",
   "execution_count": 10,
   "metadata": {},
   "outputs": [
    {
     "data": {
      "text/plain": [
       "1104                   Programs that rewrite Ruby programs\n",
       "1752     A coupon/deals site built using Roda gem for Ruby\n",
       "2476     How I spent two weeks hunting a memory leak in...\n",
       "2764                      A Review of Immutability in Ruby\n",
       "2998     Ask HN: How is ruby web dev centered so much v...\n",
       "                               ...                        \n",
       "77737       Ask HN: What's your favorite ruby HTTP client?\n",
       "78594                   Mruby makefiles in devops, a HOWTO\n",
       "79427    Ask HN: Where do Rubyists host their application?\n",
       "80002                 Ruby String Basics: Ruby Silent Cast\n",
       "80190                       PostgreSQL for Ruby Developers\n",
       "Name: title, Length: 209, dtype: object"
      ]
     },
     "execution_count": 10,
     "metadata": {},
     "output_type": "execute_result"
    }
   ],
   "source": [
    "# select all titles that mention the programming language Ruby\n",
    "pattern_ruby = \"[Rr]uby\"\n",
    "\n",
    "ruby_titles = titles[titles.str.contains(pattern_ruby, na=False)]\n",
    "ruby_titles\n"
   ]
  },
  {
   "cell_type": "code",
   "execution_count": 11,
   "metadata": {},
   "outputs": [
    {
     "data": {
      "text/plain": [
       "270      Obama used a pseudonym in emails with Clinton,...\n",
       "344      Ask HN: How to secure your internet activity (...\n",
       "678      What are the top ten email services by number ...\n",
       "999      Show HN: Pepo Campaigns  1st enterprise-grade ...\n",
       "1036     Ask HN: Suggestions for email provider separat...\n",
       "                               ...                        \n",
       "79711    Microsoft case: DoJ says it can demand every e...\n",
       "79864    Microsoft battles US over warrant for drugs ca...\n",
       "79879    Code to transform Hillary's emails from raw PD...\n",
       "79947    Ask HN: Which email service to use for Custom ...\n",
       "80092    Why you shouldn't use disposable email address...\n",
       "Name: title, Length: 342, dtype: object"
      ]
     },
     "execution_count": 11,
     "metadata": {},
     "output_type": "execute_result"
    }
   ],
   "source": [
    "# how many titles in our dataset mention email or e-mail\n",
    "email_bool = titles.str.contains('e-?mail', na=False)\n",
    "\n",
    "email_count = email_bool.sum()\n",
    "\n",
    "email_titles = titles[email_bool]\n",
    "email_titles"
   ]
  },
  {
   "cell_type": "code",
   "execution_count": 12,
   "metadata": {},
   "outputs": [
    {
     "data": {
      "text/plain": [
       "1767"
      ]
     },
     "execution_count": 12,
     "metadata": {},
     "output_type": "execute_result"
    }
   ],
   "source": [
    "pattern_tag = '\\[\\w+\\]'\n",
    "\n",
    "tag_titles = titles.str.contains(pattern_tag,na=False)\n",
    "\n",
    "tag_count = tag_titles.sum()\n",
    "\n",
    "tag_count"
   ]
  },
  {
   "cell_type": "code",
   "execution_count": 13,
   "metadata": {},
   "outputs": [],
   "source": [
    "# extract all of the tags from the Hacker News titles and build a frequency table of those tags.\n",
    "pattern = r\"\\[(\\w+)\\]\"\n",
    "\n",
    "tags = titles.str.extract(pattern, expand=False)\n",
    "\n",
    "tag_freq = tags.value_counts()"
   ]
  },
  {
   "cell_type": "code",
   "execution_count": 14,
   "metadata": {},
   "outputs": [
    {
     "data": {
      "text/plain": [
       "pdf            1092\n",
       "video           486\n",
       "audio            23\n",
       "2015             10\n",
       "Android           4\n",
       "               ... \n",
       "img               1\n",
       "INFOGRAPHIC       1\n",
       "4                 1\n",
       "HBR               1\n",
       "Ubuntu            1\n",
       "Name: title, Length: 132, dtype: int64"
      ]
     },
     "execution_count": 14,
     "metadata": {},
     "output_type": "execute_result"
    }
   ],
   "source": [
    "tag_freq"
   ]
  },
  {
   "cell_type": "code",
   "execution_count": 15,
   "metadata": {},
   "outputs": [
    {
     "data": {
      "text/plain": [
       "340                  2016 JavaOne Intel Keynote  32mn Talk\n",
       "675         Swift versus Java: the bitset performance test\n",
       "910      HeapStats: JVMTI agent and JavaFX analyzer for...\n",
       "1038     ?Oracle pledges continued support for Java and...\n",
       "1250                 Ask HN: New OSS Projects: Go or Java?\n",
       "                               ...                        \n",
       "78797                           Scala wrapper for Java NIO\n",
       "79548                A good blog series on learning Java 8\n",
       "79662               Java 9: The State of the Module System\n",
       "80008    Java 8 Stream Performance, compared to for loo...\n",
       "80027               Kotlin: New Hope in a Java 6 Wasteland\n",
       "Name: title, Length: 222, dtype: object"
      ]
     },
     "execution_count": 15,
     "metadata": {},
     "output_type": "execute_result"
    }
   ],
   "source": [
    "def first_10_matches(pattern):\n",
    "    \"\"\"\n",
    "    Return the first 10 story titles that match\n",
    "    the provided regular expression\n",
    "    \"\"\"\n",
    "    all_matches = titles[titles.str.contains(pattern, na=False)]\n",
    "    first_10 = all_matches.head(10)\n",
    "    return first_10\n",
    "\n",
    "pattern = r\"[Jj]ava[^Ss]\"\n",
    "java_titles = titles[titles.str.contains(pattern, na=False)]\n",
    "java_titles"
   ]
  },
  {
   "cell_type": "code",
   "execution_count": 16,
   "metadata": {},
   "outputs": [
    {
     "data": {
      "text/plain": [
       "675         Swift versus Java: the bitset performance test\n",
       "1038     ?Oracle pledges continued support for Java and...\n",
       "1250                 Ask HN: New OSS Projects: Go or Java?\n",
       "1295     Java Language Support for Visual Studio Code H...\n",
       "1367     Ask HN: I'm Looking for Interview Question abo...\n",
       "                               ...                        \n",
       "79548                A good blog series on learning Java 8\n",
       "79662               Java 9: The State of the Module System\n",
       "80008    Java 8 Stream Performance, compared to for loo...\n",
       "80019      Comparison of Asynchronous Data Loading in Java\n",
       "80027               Kotlin: New Hope in a Java 6 Wasteland\n",
       "Name: title, Length: 250, dtype: object"
      ]
     },
     "execution_count": 16,
     "metadata": {},
     "output_type": "execute_result"
    }
   ],
   "source": [
    "def first_10_matches(pattern):\n",
    "    \"\"\"\n",
    "    Return the first 10 story titles that match\n",
    "    the provided regular expression\n",
    "    \"\"\"\n",
    "    all_matches = titles[titles.str.contains(pattern, na=False)]\n",
    "    first_10 = all_matches.head(10)\n",
    "    return first_10\n",
    "\n",
    "pattern = r\"\\b[Jj]ava\\b\"\n",
    "java_titles = titles[titles.str.contains(pattern, na=False)]\n",
    "java_titles"
   ]
  },
  {
   "cell_type": "code",
   "execution_count": 17,
   "metadata": {},
   "outputs": [
    {
     "name": "stderr",
     "output_type": "stream",
     "text": [
      "C:\\Users\\Aditya\\Anaconda3\\lib\\site-packages\\pandas\\core\\strings.py:2001: UserWarning: This pattern has match groups. To actually get the groups, use str.extract.\n",
      "  return func(self, *args, **kwargs)\n"
     ]
    },
    {
     "name": "stdout",
     "output_type": "stream",
     "text": [
      "55\n",
      "1668\n"
     ]
    }
   ],
   "source": [
    "# beginning and end anchors to count how many titles have tags at the start versus the end of the story title in our\n",
    "# Hacker News dataset\n",
    "\n",
    "pattern = r\"^(\\[\\w+\\])\"\n",
    "beginning_count = titles.str.contains(pattern).sum()\n",
    "print(beginning_count)\n",
    "\n",
    "ending_pattern = \"(\\[\\w+\\]$)\"\n",
    "ending_count = titles.str.contains(ending_pattern).sum()\n",
    "print(ending_count)"
   ]
  },
  {
   "cell_type": "markdown",
   "metadata": {},
   "source": [
    "- extract the mentions of different SQL flavors into a new column and clean those duplicates by making them all lowercase. We'll then analyze the results to look at the average number of comments for each flavor."
   ]
  },
  {
   "cell_type": "code",
   "execution_count": 18,
   "metadata": {},
   "outputs": [],
   "source": [
    "hn_sql = hn[hn['title'].str.contains(r\"\\w+SQL\", flags=re.I, na=False)].copy()"
   ]
  },
  {
   "cell_type": "code",
   "execution_count": 19,
   "metadata": {},
   "outputs": [],
   "source": [
    "pattern = r\"(\\w+SQL)\"\n",
    "hn_sql['flavor'] = hn_sql.loc[:,\"title\"].str.extract(pattern,flags=re.I,expand=False)\n",
    "\n",
    "hn_sql.loc[:,\"flavor\"] = hn_sql.loc[:,\"flavor\"].str.lower()\n",
    "\n",
    "sql_pivot = hn_sql.pivot_table(index='flavor', values='num_comments')"
   ]
  },
  {
   "cell_type": "code",
   "execution_count": 20,
   "metadata": {},
   "outputs": [
    {
     "data": {
      "text/html": [
       "<div>\n",
       "<style scoped>\n",
       "    .dataframe tbody tr th:only-of-type {\n",
       "        vertical-align: middle;\n",
       "    }\n",
       "\n",
       "    .dataframe tbody tr th {\n",
       "        vertical-align: top;\n",
       "    }\n",
       "\n",
       "    .dataframe thead th {\n",
       "        text-align: right;\n",
       "    }\n",
       "</style>\n",
       "<table border=\"1\" class=\"dataframe\">\n",
       "  <thead>\n",
       "    <tr style=\"text-align: right;\">\n",
       "      <th></th>\n",
       "      <th>num_comments</th>\n",
       "    </tr>\n",
       "    <tr>\n",
       "      <th>flavor</th>\n",
       "      <th></th>\n",
       "    </tr>\n",
       "  </thead>\n",
       "  <tbody>\n",
       "    <tr>\n",
       "      <th>cloudsql</th>\n",
       "      <td>5.000000</td>\n",
       "    </tr>\n",
       "    <tr>\n",
       "      <th>continuousql</th>\n",
       "      <td>7.000000</td>\n",
       "    </tr>\n",
       "    <tr>\n",
       "      <th>htsql</th>\n",
       "      <td>17.000000</td>\n",
       "    </tr>\n",
       "    <tr>\n",
       "      <th>memsql</th>\n",
       "      <td>8.000000</td>\n",
       "    </tr>\n",
       "    <tr>\n",
       "      <th>mssql</th>\n",
       "      <td>3.000000</td>\n",
       "    </tr>\n",
       "    <tr>\n",
       "      <th>mysql</th>\n",
       "      <td>21.647059</td>\n",
       "    </tr>\n",
       "    <tr>\n",
       "      <th>nosql</th>\n",
       "      <td>13.270270</td>\n",
       "    </tr>\n",
       "    <tr>\n",
       "      <th>phxsql</th>\n",
       "      <td>4.000000</td>\n",
       "    </tr>\n",
       "    <tr>\n",
       "      <th>postgresql</th>\n",
       "      <td>19.817391</td>\n",
       "    </tr>\n",
       "    <tr>\n",
       "      <th>simplesql</th>\n",
       "      <td>2.000000</td>\n",
       "    </tr>\n",
       "    <tr>\n",
       "      <th>sparksql</th>\n",
       "      <td>1.000000</td>\n",
       "    </tr>\n",
       "    <tr>\n",
       "      <th>tsql</th>\n",
       "      <td>1.000000</td>\n",
       "    </tr>\n",
       "  </tbody>\n",
       "</table>\n",
       "</div>"
      ],
      "text/plain": [
       "              num_comments\n",
       "flavor                    \n",
       "cloudsql          5.000000\n",
       "continuousql      7.000000\n",
       "htsql            17.000000\n",
       "memsql            8.000000\n",
       "mssql             3.000000\n",
       "mysql            21.647059\n",
       "nosql            13.270270\n",
       "phxsql            4.000000\n",
       "postgresql       19.817391\n",
       "simplesql         2.000000\n",
       "sparksql          1.000000\n",
       "tsql              1.000000"
      ]
     },
     "execution_count": 20,
     "metadata": {},
     "output_type": "execute_result"
    }
   ],
   "source": [
    "sql_pivot"
   ]
  },
  {
   "cell_type": "code",
   "execution_count": 21,
   "metadata": {},
   "outputs": [],
   "source": [
    "pattern = r\"[Py]thon ([\\d\\.]+)\" #paranthesis is used as the capture group the pattern will only the version of the \n",
    "# python.\n",
    "\n",
    "python_title = titles.str.extract(pattern, expand=False)\n",
    "\n",
    "python_version = dict(python_title.value_counts())"
   ]
  },
  {
   "cell_type": "code",
   "execution_count": 22,
   "metadata": {},
   "outputs": [
    {
     "data": {
      "text/plain": [
       "{'3': 27,\n",
       " '2': 8,\n",
       " '3.5': 7,\n",
       " '3.6': 3,\n",
       " '2.7': 3,\n",
       " '3.4': 2,\n",
       " '201': 1,\n",
       " '5': 1,\n",
       " '5.0': 1,\n",
       " '3.5.2': 1,\n",
       " '1.8.1': 1,\n",
       " '8': 1,\n",
       " '2.': 1,\n",
       " '2.7.12': 1,\n",
       " '2.7.': 1,\n",
       " '4': 1,\n",
       " '3.5.0': 1,\n",
       " '1.5': 1}"
      ]
     },
     "execution_count": 22,
     "metadata": {},
     "output_type": "execute_result"
    }
   ],
   "source": [
    "python_version"
   ]
  },
  {
   "cell_type": "code",
   "execution_count": 24,
   "metadata": {},
   "outputs": [],
   "source": [
    "# use a negative set to prevent matches for the + character and the . character.\n",
    "def first_10_matches(pattern):\n",
    "    \"\"\"\n",
    "    Return the first 10 story titles that match\n",
    "    the provided regular expression\n",
    "    \"\"\"\n",
    "    all_matches = titles[titles.str.contains(pattern,na=False)]\n",
    "    first_10 = all_matches.head(10)\n",
    "    return first_10\n",
    "\n",
    "pattern = r\"\\b[Cc]\\b[^.+]\"\n",
    "first_ten = first_10_matches(pattern)"
   ]
  },
  {
   "cell_type": "code",
   "execution_count": 25,
   "metadata": {},
   "outputs": [
    {
     "data": {
      "text/plain": [
       "123            Talking to C Programmers about C++ [video]\n",
       "142            Booksbyus/scalable-c: Scalable C  The Book\n",
       "143                                  Python by the C side\n",
       "247     What is the difference between String and stri...\n",
       "448                          Lesser-known C coding styles\n",
       "920     RoslynLinqRewrite  Compiles C# by rewriting an...\n",
       "1049    How to run C programs on the BeagleBone's PRU ...\n",
       "1084     Automatic C library binding generator for Golang\n",
       "1340    C Preprocessor Trick for Implementing Similar ...\n",
       "1607    Ask HN: What are some examples of well written...\n",
       "Name: title, dtype: object"
      ]
     },
     "execution_count": 25,
     "metadata": {},
     "output_type": "execute_result"
    }
   ],
   "source": [
    "first_ten"
   ]
  },
  {
   "attachments": {
    "image.png": {
     "image/png": "[encoded data removed]"
    }
   },
   "cell_type": "markdown",
   "metadata": {},
   "source": [
    "#### Lookarounds in Regular expression\n",
    "![image.png](attachment:image.png)"
   ]
  },
  {
   "cell_type": "code",
   "execution_count": 26,
   "metadata": {},
   "outputs": [],
   "source": [
    "test_cases = ['Red_Green_Blue',\n",
    "              'Yellow_Green_Red',\n",
    "              'Red_Green_Red',\n",
    "              'Yellow_Green_Blue',\n",
    "              'Green']"
   ]
  },
  {
   "cell_type": "code",
   "execution_count": 28,
   "metadata": {},
   "outputs": [
    {
     "name": "stdout",
     "output_type": "stream",
     "text": [
      "<re.Match object; span=(4, 9), match='Green'>\n",
      "NO MATCH\n",
      "NO MATCH\n",
      "<re.Match object; span=(7, 12), match='Green'>\n",
      "NO MATCH\n"
     ]
    }
   ],
   "source": [
    "pattern_pos = r\"Green(?=_Blue)\"\n",
    "for tc in test_cases:\n",
    "    result = re.search(pattern_pos, tc)\n",
    "    print(result or \"NO MATCH\")\n",
    "    "
   ]
  },
  {
   "cell_type": "code",
   "execution_count": 29,
   "metadata": {},
   "outputs": [
    {
     "name": "stdout",
     "output_type": "stream",
     "text": [
      "<re.Match object; span=(4, 9), match='Green'>\n",
      "NO MATCH\n",
      "NO MATCH\n",
      "<re.Match object; span=(7, 12), match='Green'>\n",
      "<re.Match object; span=(0, 5), match='Green'>\n"
     ]
    }
   ],
   "source": [
    "pattern_negative = r\"Green(?!_Red)\"\n",
    "for tc in test_cases:\n",
    "    result = re.search(pattern_negative, tc)\n",
    "    print(result or \"NO MATCH\")\n",
    "    "
   ]
  },
  {
   "cell_type": "code",
   "execution_count": 35,
   "metadata": {},
   "outputs": [
    {
     "name": "stdout",
     "output_type": "stream",
     "text": [
      "<re.Match object; span=(4, 9), match='Green'>\n",
      "NO MATCH\n",
      "<re.Match object; span=(4, 9), match='Green'>\n",
      "NO MATCH\n",
      "NO MATCH\n"
     ]
    }
   ],
   "source": [
    "positive_lookbehind = r\"(?<=Red_)Green\"\n",
    "pattern_negative = r\"Green(?!_Red)\"\n",
    "for tc in test_cases:\n",
    "    result = re.search(positive_lookbehind, tc)\n",
    "    print(result or \"NO MATCH\")"
   ]
  },
  {
   "cell_type": "code",
   "execution_count": 36,
   "metadata": {},
   "outputs": [
    {
     "name": "stdout",
     "output_type": "stream",
     "text": [
      "<re.Match object; span=(4, 9), match='Green'>\n",
      "NO MATCH\n",
      "<re.Match object; span=(4, 9), match='Green'>\n",
      "NO MATCH\n",
      "<re.Match object; span=(0, 5), match='Green'>\n"
     ]
    }
   ],
   "source": [
    "negative_lookbehind = r\"(?<!Yellow_)Green\"\n",
    "pattern_negative = r\"Green(?!_Red)\"\n",
    "for tc in test_cases:\n",
    "    result = re.search(negative_lookbehind, tc)\n",
    "    print(result or \"NO MATCH\")"
   ]
  },
  {
   "cell_type": "code",
   "execution_count": 38,
   "metadata": {},
   "outputs": [
    {
     "name": "stderr",
     "output_type": "stream",
     "text": [
      "C:\\Users\\Aditya\\Anaconda3\\lib\\site-packages\\pandas\\core\\strings.py:2001: UserWarning: This pattern has match groups. To actually get the groups, use str.extract.\n",
      "  return func(self, *args, **kwargs)\n"
     ]
    },
    {
     "data": {
      "text/plain": [
       "447"
      ]
     },
     "execution_count": 38,
     "metadata": {},
     "output_type": "execute_result"
    }
   ],
   "source": [
    "pattern = r\"(?<!Series\\s)\\b[Cc]\\b((?![+.])|\\.$)\"\n",
    "\n",
    "c_mentions = titles.str.contains(pattern).sum()\n",
    "c_mentions"
   ]
  },
  {
   "cell_type": "code",
   "execution_count": 40,
   "metadata": {},
   "outputs": [
    {
     "data": {
      "text/plain": [
       "5285      Ask HN: Allowance for for fun post and comments?\n",
       "7325                               An anti-torpedo torpedo\n",
       "7758     Uncovering the truth about the British empire ...\n",
       "9966                Wire Wire: A West African Cyber Threat\n",
       "10349               Bye Bye Skype, canceling Skype account\n",
       "10945    Mcdonalds copying cyriak  cows cows cows in th...\n",
       "11230                     Ooh Ooh My Turn Why Lisp? (2008)\n",
       "12853    Intel Intel Software Guard Extensions Explaine...\n",
       "15203          Intellij-Rust Rust Plugin for IntelliJ IDEA\n",
       "17603    The real damage Brexit will do do this industr...\n",
       "17672    340 billion billion billion billion: possible ...\n",
       "21543                 Silicon Valley Has a Problem Problem\n",
       "22005                 Silicon Valley Has a Problem Problem\n",
       "22717    Ask HN: What's the #1 place on the web you go ...\n",
       "27580            Lawyer lawyer lawyer LAWYER lawyer LAWYER\n",
       "27804                               What Makes Texas Texas\n",
       "28231    Buffalo buffalo Buffalo buffalo buffalo buffal...\n",
       "29070                                 Hacking Hacking Team\n",
       "30621    Zero Zero lands $25M for Hover Camera, selfie ...\n",
       "34737                                    Bang Bang Control\n",
       "35121    Apply HN: Comment on on-demand TV as if everyo...\n",
       "39811                          Mai Mai Sze and the I Ching\n",
       "40532                           The Mindset Mindset (2015)\n",
       "44861      Where should we donate to to maximize net good?\n",
       "45339    Aye Aye API  A Very Small and Easy PHP REST AP...\n",
       "45544              Hacking Wired's Ad Blocker Blocker #6f0\n",
       "45784    Buffalo buffalo Buffalo buffalo buffalo buffal...\n",
       "45950          Cordless Telephones: Bye Bye Privacy (1991)\n",
       "46486    Valentine's Day Special: Bye Bye Tinder, Flirt...\n",
       "49321    Why does the the human mind ignore the second ...\n",
       "50796                               Dot Dot Dot HTML5 Game\n",
       "51516    Show HN: A ToDo list that you manage manage in...\n",
       "52715    Vogue Easter Egg up up, down down, left, right...\n",
       "52783                                     Dear Dear GitHub\n",
       "52985    This Interview with the Guy Who Played Jar Jar...\n",
       "54017    Ask HN: What do do in Palo Alto on Saturday ev...\n",
       "54062    Research points to to conscientiousness as the...\n",
       "54934      #everykey is is a fÃ‚Â•Ã‚Â•Ã‚Â•ing game changer\n",
       "57167    The Rise and Fall of Boring Dystopia, an Anti-...\n",
       "58393    Google Search a long time ago in a galaxy far ...\n",
       "60977    Submarine Submarine Patent Finding Software Hi...\n",
       "62484                                          Now Now Now\n",
       "64565    Audi: 1 in 4 of of Cars Sold in U.S. Will Be E...\n",
       "65286    Is this a ship-shipping ship, shipping shippin...\n",
       "68043    From Side Project to Profitable Start Up  Part...\n",
       "70972    Bye Bye Webrtc2SIP: WebRTC with Asterisk and A...\n",
       "71662    A scientist's decision to kill a bird he'd bee...\n",
       "72016    Codacy Raises Raises $1.1M to Kill Off Unneces...\n",
       "73135    Sweden to to start housing new asylum seekers ...\n",
       "74389    New YouTube iOS update brings stretched phone ...\n",
       "75209    Google's detected and defeated a steep rise in...\n",
       "75844          Solving the the Monty-Hall-Problem in Swift\n",
       "77741                        Flexbox Cheatsheet Cheatsheet\n",
       "79612      Bye Bye MySQL and MongoDB. Guten Tag PostgreSQL\n",
       "Name: title, dtype: object"
      ]
     },
     "execution_count": 40,
     "metadata": {},
     "output_type": "execute_result"
    }
   ],
   "source": [
    "pattern = r\"\\b(\\w+)\\s\\1\\b\"\n",
    "repeated_words = titles[titles.str.contains(pattern,na=False)]\n",
    "repeated_words"
   ]
  },
  {
   "cell_type": "code",
   "execution_count": 42,
   "metadata": {},
   "outputs": [
    {
     "data": {
      "text/plain": [
       "github.com             4157\n",
       "medium.com             3218\n",
       "www.nytimes.com        1940\n",
       "www.theguardian.com    1026\n",
       "techcrunch.com          964\n",
       "Name: url, dtype: int64"
      ]
     },
     "execution_count": 42,
     "metadata": {},
     "output_type": "execute_result"
    }
   ],
   "source": [
    "test_urls = pd.Series([\n",
    " 'https://www.amazon.com/Technology-Ventures-Enterprise-Thomas-Byers/dp/0073523429',\n",
    " 'http://www.interactivedynamicvideo.com/',\n",
    " 'http://www.nytimes.com/2007/11/07/movies/07stein.html?_r=0',\n",
    " 'http://evonomics.com/advertising-cannot-maintain-internet-heres-solution/',\n",
    " 'HTTPS://github.com/keppel/pinn',\n",
    " 'Http://phys.org/news/2015-09-scale-solar-youve.html',\n",
    " 'https://iot.seeed.cc',\n",
    " 'http://www.bfilipek.com/2016/04/custom-deleters-for-c-smart-pointers.html',\n",
    " 'http://beta.crowdfireapp.com/?beta=agnipath',\n",
    " 'https://www.valid.ly?param',\n",
    " 'http://css-cursor.techstream.org'\n",
    "])\n",
    "\n",
    "pattern = r\"https?://([\\w\\-\\.]+)\"\n",
    "test_urls_clean = test_urls.str.extract(pattern, flags=re.I, expand=False)\n",
    "domains = hn['url'].str.extract(pattern, flags=re.I, expand=False)\n",
    "top_domains = domains.value_counts().head(5)\n",
    "top_domains"
   ]
  },
  {
   "cell_type": "code",
   "execution_count": 43,
   "metadata": {},
   "outputs": [
    {
     "data": {
      "text/html": [
       "<div>\n",
       "<style scoped>\n",
       "    .dataframe tbody tr th:only-of-type {\n",
       "        vertical-align: middle;\n",
       "    }\n",
       "\n",
       "    .dataframe tbody tr th {\n",
       "        vertical-align: top;\n",
       "    }\n",
       "\n",
       "    .dataframe thead th {\n",
       "        text-align: right;\n",
       "    }\n",
       "</style>\n",
       "<table border=\"1\" class=\"dataframe\">\n",
       "  <thead>\n",
       "    <tr style=\"text-align: right;\">\n",
       "      <th></th>\n",
       "      <th>0</th>\n",
       "      <th>1</th>\n",
       "      <th>2</th>\n",
       "    </tr>\n",
       "  </thead>\n",
       "  <tbody>\n",
       "    <tr>\n",
       "      <th>0</th>\n",
       "      <td>https</td>\n",
       "      <td>blog.menswr.com</td>\n",
       "      <td>2016/09/07/whats-new-with-your-style-feed/</td>\n",
       "    </tr>\n",
       "    <tr>\n",
       "      <th>1</th>\n",
       "      <td>NaN</td>\n",
       "      <td>NaN</td>\n",
       "      <td>NaN</td>\n",
       "    </tr>\n",
       "    <tr>\n",
       "      <th>2</th>\n",
       "      <td>https</td>\n",
       "      <td>www.technologyreview.com</td>\n",
       "      <td>s/602442/amazons-algorithms-dont-find-you-the-...</td>\n",
       "    </tr>\n",
       "    <tr>\n",
       "      <th>3</th>\n",
       "      <td>http</td>\n",
       "      <td>m.imgur.com</td>\n",
       "      <td>gallery/th6Ua</td>\n",
       "    </tr>\n",
       "    <tr>\n",
       "      <th>4</th>\n",
       "      <td>http</td>\n",
       "      <td>www.nytimes.com</td>\n",
       "      <td>2016/09/25/technology/phone-makers-could-cut-o...</td>\n",
       "    </tr>\n",
       "    <tr>\n",
       "      <th>...</th>\n",
       "      <td>...</td>\n",
       "      <td>...</td>\n",
       "      <td>...</td>\n",
       "    </tr>\n",
       "    <tr>\n",
       "      <th>80396</th>\n",
       "      <td>http</td>\n",
       "      <td>zyghost.com</td>\n",
       "      <td>articles/My-Keyboard.html</td>\n",
       "    </tr>\n",
       "    <tr>\n",
       "      <th>80397</th>\n",
       "      <td>http</td>\n",
       "      <td>www.dailytech.com</td>\n",
       "      <td>Exclusive+Googles+New+Search+Icon+Was+Created+...</td>\n",
       "    </tr>\n",
       "    <tr>\n",
       "      <th>80398</th>\n",
       "      <td>https</td>\n",
       "      <td>utcc.utoronto.ca</td>\n",
       "      <td>~cks/space/blog/sysadmin/NoACLTemptation</td>\n",
       "    </tr>\n",
       "    <tr>\n",
       "      <th>80399</th>\n",
       "      <td>NaN</td>\n",
       "      <td>NaN</td>\n",
       "      <td>NaN</td>\n",
       "    </tr>\n",
       "    <tr>\n",
       "      <th>80400</th>\n",
       "      <td>http</td>\n",
       "      <td>dangerousminds.net</td>\n",
       "      <td>comments/dying_vets_fuck_you_letter_to_george_...</td>\n",
       "    </tr>\n",
       "  </tbody>\n",
       "</table>\n",
       "<p>80401 rows × 3 columns</p>\n",
       "</div>"
      ],
      "text/plain": [
       "           0                         1  \\\n",
       "0      https           blog.menswr.com   \n",
       "1        NaN                       NaN   \n",
       "2      https  www.technologyreview.com   \n",
       "3       http               m.imgur.com   \n",
       "4       http           www.nytimes.com   \n",
       "...      ...                       ...   \n",
       "80396   http               zyghost.com   \n",
       "80397   http         www.dailytech.com   \n",
       "80398  https          utcc.utoronto.ca   \n",
       "80399    NaN                       NaN   \n",
       "80400   http        dangerousminds.net   \n",
       "\n",
       "                                                       2  \n",
       "0             2016/09/07/whats-new-with-your-style-feed/  \n",
       "1                                                    NaN  \n",
       "2      s/602442/amazons-algorithms-dont-find-you-the-...  \n",
       "3                                          gallery/th6Ua  \n",
       "4      2016/09/25/technology/phone-makers-could-cut-o...  \n",
       "...                                                  ...  \n",
       "80396                          articles/My-Keyboard.html  \n",
       "80397  Exclusive+Googles+New+Search+Icon+Was+Created+...  \n",
       "80398           ~cks/space/blog/sysadmin/NoACLTemptation  \n",
       "80399                                                NaN  \n",
       "80400  comments/dying_vets_fuck_you_letter_to_george_...  \n",
       "\n",
       "[80401 rows x 3 columns]"
      ]
     },
     "execution_count": 43,
     "metadata": {},
     "output_type": "execute_result"
    }
   ],
   "source": [
    "\n",
    "pattern =r\"(https?)://([\\w\\.\\-]+)/?(.*)\"\n",
    "test_url_parts= test_urls.str.extract(pattern,flags=re.I)\n",
    "url_parts = hn['url'].str.extract(pattern, flags=re.I)\n",
    "url_parts"
   ]
  },
  {
   "cell_type": "code",
   "execution_count": 45,
   "metadata": {},
   "outputs": [
    {
     "data": {
      "text/html": [
       "<div>\n",
       "<style scoped>\n",
       "    .dataframe tbody tr th:only-of-type {\n",
       "        vertical-align: middle;\n",
       "    }\n",
       "\n",
       "    .dataframe tbody tr th {\n",
       "        vertical-align: top;\n",
       "    }\n",
       "\n",
       "    .dataframe thead th {\n",
       "        text-align: right;\n",
       "    }\n",
       "</style>\n",
       "<table border=\"1\" class=\"dataframe\">\n",
       "  <thead>\n",
       "    <tr style=\"text-align: right;\">\n",
       "      <th></th>\n",
       "      <th>protocol</th>\n",
       "      <th>domain</th>\n",
       "      <th>path</th>\n",
       "    </tr>\n",
       "  </thead>\n",
       "  <tbody>\n",
       "    <tr>\n",
       "      <th>0</th>\n",
       "      <td>https</td>\n",
       "      <td>blog.menswr.com</td>\n",
       "      <td>2016/09/07/whats-new-with-your-style-feed/</td>\n",
       "    </tr>\n",
       "    <tr>\n",
       "      <th>1</th>\n",
       "      <td>NaN</td>\n",
       "      <td>NaN</td>\n",
       "      <td>NaN</td>\n",
       "    </tr>\n",
       "    <tr>\n",
       "      <th>2</th>\n",
       "      <td>https</td>\n",
       "      <td>www.technologyreview.com</td>\n",
       "      <td>s/602442/amazons-algorithms-dont-find-you-the-...</td>\n",
       "    </tr>\n",
       "    <tr>\n",
       "      <th>3</th>\n",
       "      <td>http</td>\n",
       "      <td>m.imgur.com</td>\n",
       "      <td>gallery/th6Ua</td>\n",
       "    </tr>\n",
       "    <tr>\n",
       "      <th>4</th>\n",
       "      <td>http</td>\n",
       "      <td>www.nytimes.com</td>\n",
       "      <td>2016/09/25/technology/phone-makers-could-cut-o...</td>\n",
       "    </tr>\n",
       "    <tr>\n",
       "      <th>...</th>\n",
       "      <td>...</td>\n",
       "      <td>...</td>\n",
       "      <td>...</td>\n",
       "    </tr>\n",
       "    <tr>\n",
       "      <th>80396</th>\n",
       "      <td>http</td>\n",
       "      <td>zyghost.com</td>\n",
       "      <td>articles/My-Keyboard.html</td>\n",
       "    </tr>\n",
       "    <tr>\n",
       "      <th>80397</th>\n",
       "      <td>http</td>\n",
       "      <td>www.dailytech.com</td>\n",
       "      <td>Exclusive+Googles+New+Search+Icon+Was+Created+...</td>\n",
       "    </tr>\n",
       "    <tr>\n",
       "      <th>80398</th>\n",
       "      <td>https</td>\n",
       "      <td>utcc.utoronto.ca</td>\n",
       "      <td>~cks/space/blog/sysadmin/NoACLTemptation</td>\n",
       "    </tr>\n",
       "    <tr>\n",
       "      <th>80399</th>\n",
       "      <td>NaN</td>\n",
       "      <td>NaN</td>\n",
       "      <td>NaN</td>\n",
       "    </tr>\n",
       "    <tr>\n",
       "      <th>80400</th>\n",
       "      <td>http</td>\n",
       "      <td>dangerousminds.net</td>\n",
       "      <td>comments/dying_vets_fuck_you_letter_to_george_...</td>\n",
       "    </tr>\n",
       "  </tbody>\n",
       "</table>\n",
       "<p>80401 rows × 3 columns</p>\n",
       "</div>"
      ],
      "text/plain": [
       "      protocol                    domain  \\\n",
       "0        https           blog.menswr.com   \n",
       "1          NaN                       NaN   \n",
       "2        https  www.technologyreview.com   \n",
       "3         http               m.imgur.com   \n",
       "4         http           www.nytimes.com   \n",
       "...        ...                       ...   \n",
       "80396     http               zyghost.com   \n",
       "80397     http         www.dailytech.com   \n",
       "80398    https          utcc.utoronto.ca   \n",
       "80399      NaN                       NaN   \n",
       "80400     http        dangerousminds.net   \n",
       "\n",
       "                                                    path  \n",
       "0             2016/09/07/whats-new-with-your-style-feed/  \n",
       "1                                                    NaN  \n",
       "2      s/602442/amazons-algorithms-dont-find-you-the-...  \n",
       "3                                          gallery/th6Ua  \n",
       "4      2016/09/25/technology/phone-makers-could-cut-o...  \n",
       "...                                                  ...  \n",
       "80396                          articles/My-Keyboard.html  \n",
       "80397  Exclusive+Googles+New+Search+Icon+Was+Created+...  \n",
       "80398           ~cks/space/blog/sysadmin/NoACLTemptation  \n",
       "80399                                                NaN  \n",
       "80400  comments/dying_vets_fuck_you_letter_to_george_...  \n",
       "\n",
       "[80401 rows x 3 columns]"
      ]
     },
     "execution_count": 45,
     "metadata": {},
     "output_type": "execute_result"
    }
   ],
   "source": [
    "# Applying column names to the table above\n",
    "\n",
    "pattern =r\"(?P<protocol>https?)://(?P<domain>[\\w\\.\\-]+)/?(?P<path>.*)\"\n",
    "test_url_parts= test_urls.str.extract(pattern,flags=re.I)\n",
    "url_parts = hn['url'].str.extract(pattern, flags=re.I)\n",
    "url_parts"
   ]
  },
  {
   "cell_type": "code",
   "execution_count": null,
   "metadata": {},
   "outputs": [],
   "source": []
  }
 ],
 "metadata": {
  "kernelspec": {
   "display_name": "Python 3",
   "language": "python",
   "name": "python3"
  },
  "language_info": {
   "codemirror_mode": {
    "name": "ipython",
    "version": 3
   },
   "file_extension": ".py",
   "mimetype": "text/x-python",
   "name": "python",
   "nbconvert_exporter": "python",
   "pygments_lexer": "ipython3",
   "version": "3.8.5"
  }
 },
 "nbformat": 4,
 "nbformat_minor": 4
}
